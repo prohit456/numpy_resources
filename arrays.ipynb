{
 "cells": [
  {
   "cell_type": "code",
   "execution_count": 3,
   "metadata": {
    "collapsed": true
   },
   "outputs": [],
   "source": [
    "import numpy as np;"
   ]
  },
  {
   "cell_type": "code",
   "execution_count": 7,
   "metadata": {
    "collapsed": false
   },
   "outputs": [],
   "source": [
    "#np.array takes list as an input"
   ]
  },
  {
   "cell_type": "code",
   "execution_count": 5,
   "metadata": {
    "collapsed": false
   },
   "outputs": [
    {
     "name": "stdout",
     "output_type": "stream",
     "text": [
      "[0 1 2 3]\n"
     ]
    }
   ],
   "source": [
    "arr0 = np.array([0, 1, 2, 3]);\n",
    "print arr0;"
   ]
  },
  {
   "cell_type": "code",
   "execution_count": 8,
   "metadata": {
    "collapsed": false
   },
   "outputs": [
    {
     "name": "stdout",
     "output_type": "stream",
     "text": [
      "[[1 2 3 4]\n",
      " [5 6 7 8]]\n"
     ]
    }
   ],
   "source": [
    "# if you want to make a matrix, you still need to pass a list but this list will contain lists as its members\n",
    "mat = np.array([[1, 2, 3,4], [5,6, 7, 8]]);\n",
    "print mat;"
   ]
  },
  {
   "cell_type": "code",
   "execution_count": 9,
   "metadata": {
    "collapsed": false
   },
   "outputs": [
    {
     "name": "stdout",
     "output_type": "stream",
     "text": [
      "(2, 4)\n"
     ]
    }
   ],
   "source": [
    "#matlab equivalent of size or python equivalent of len is shape\n",
    "print mat.shape"
   ]
  },
  {
   "cell_type": "code",
   "execution_count": 10,
   "metadata": {
    "collapsed": false
   },
   "outputs": [
    {
     "name": "stdout",
     "output_type": "stream",
     "text": [
      "int64\n"
     ]
    }
   ],
   "source": [
    "#dtype is another object present in array\n",
    "print mat.dtype"
   ]
  },
  {
   "cell_type": "code",
   "execution_count": 15,
   "metadata": {
    "collapsed": false
   },
   "outputs": [
    {
     "name": "stdout",
     "output_type": "stream",
     "text": [
      "[[ 0.  0.]\n",
      " [ 0.  0.]]\n",
      "[[ 1.  1.]\n",
      " [ 1.  1.]\n",
      " [ 1.  1.]\n",
      " [ 1.  1.]]\n"
     ]
    }
   ],
   "source": [
    "#corresponding to matlab's zeros function we have zeros function in numpy\n",
    "zarr = np.zeros([2,2])\n",
    "print zarr;\n",
    "oarr = np.ones([4,2]);\n",
    "print oarr;"
   ]
  },
  {
   "cell_type": "code",
   "execution_count": 4,
   "metadata": {
    "collapsed": false
   },
   "outputs": [
    {
     "name": "stdout",
     "output_type": "stream",
     "text": [
      "[[ 1.  0.  0.  0.  0.]\n",
      " [ 0.  1.  0.  0.  0.]\n",
      " [ 0.  0.  1.  0.  0.]\n",
      " [ 0.  0.  0.  1.  0.]\n",
      " [ 0.  0.  0.  0.  1.]]\n"
     ]
    }
   ],
   "source": [
    "#if you want to create an identity matrix, similar to matlab you need to use the command eye\n",
    "Imat = np.eye(5);\n",
    "print Imat"
   ]
  },
  {
   "cell_type": "code",
   "execution_count": 7,
   "metadata": {
    "collapsed": false
   },
   "outputs": [
    {
     "name": "stdout",
     "output_type": "stream",
     "text": [
      "[ 1  3  5  7  9 11 13 15 17 19 21 23 25 27 29 31 33 35 37 39 41 43 45 47 49\n",
      " 51 53 55]\n"
     ]
    }
   ],
   "source": [
    "#similar to linspace in matlab, we have arange in numpy, np.arange(start, stop, stepsize)\n",
    "ar_ex = np.arange(1, 56, 2)\n",
    "print ar_ex"
   ]
  },
  {
   "cell_type": "code",
   "execution_count": 9,
   "metadata": {
    "collapsed": false
   },
   "outputs": [
    {
     "data": {
      "text/plain": [
       "2"
      ]
     },
     "execution_count": 9,
     "metadata": {},
     "output_type": "execute_result"
    }
   ],
   "source": [
    "#by default division is integer arithmetic. So without specifying type, it would default to integer arithmetic\n",
    "5/2"
   ]
  },
  {
   "cell_type": "code",
   "execution_count": 10,
   "metadata": {
    "collapsed": false
   },
   "outputs": [
    {
     "data": {
      "text/plain": [
       "2.5"
      ]
     },
     "execution_count": 10,
     "metadata": {},
     "output_type": "execute_result"
    }
   ],
   "source": [
    "#If you want to remove this in python 2.0, you need to do\n",
    "from __future__ import division\n",
    "5/2"
   ]
  },
  {
   "cell_type": "code",
   "execution_count": 16,
   "metadata": {
    "collapsed": false
   },
   "outputs": [
    {
     "name": "stdout",
     "output_type": "stream",
     "text": [
      "[[ 0  1  2  3  4  5  6  7  8  9 10 11]\n",
      " [13 14 15 16 17 18 19 20 21 22 23 24]]\n",
      "[[ 2  4  6  8 10 12 14 16 18 20 22 24]\n",
      " [ 2  4  6  8 10 12 14 16 18 20 22 24]]\n"
     ]
    }
   ],
   "source": [
    "#Array Multiplications\n",
    "arr1 = np.array([np.arange(12), np.arange(13,25)])\n",
    "arr2 = np.array([np.arange(2, 26, 2), np.arange(2, 26, 2)])\n",
    "print arr1;\n",
    "print arr2"
   ]
  },
  {
   "cell_type": "code",
   "execution_count": 17,
   "metadata": {
    "collapsed": false
   },
   "outputs": [
    {
     "name": "stdout",
     "output_type": "stream",
     "text": [
      "[[  0   4  12  24  40  60  84 112 144 180 220 264]\n",
      " [ 26  56  90 128 170 216 266 320 378 440 506 576]]\n"
     ]
    }
   ],
   "source": [
    "#By default array multiplication is dot product\n",
    "print arr1*arr2"
   ]
  },
  {
   "cell_type": "code",
   "execution_count": 20,
   "metadata": {
    "collapsed": false
   },
   "outputs": [
    {
     "ename": "ValueError",
     "evalue": "operands could not be broadcast together with shapes (12,) (15,) ",
     "output_type": "error",
     "traceback": [
      "\u001b[0;31m---------------------------------------------------------------------------\u001b[0m",
      "\u001b[0;31mValueError\u001b[0m                                Traceback (most recent call last)",
      "\u001b[0;32m<ipython-input-20-42dc8afe6281>\u001b[0m in \u001b[0;36m<module>\u001b[0;34m()\u001b[0m\n\u001b[1;32m      2\u001b[0m \u001b[0marr1\u001b[0m \u001b[0;34m=\u001b[0m \u001b[0mnp\u001b[0m\u001b[0;34m.\u001b[0m\u001b[0marange\u001b[0m\u001b[0;34m(\u001b[0m\u001b[0;36m12\u001b[0m\u001b[0;34m)\u001b[0m\u001b[0;34m;\u001b[0m\u001b[0;34m\u001b[0m\u001b[0m\n\u001b[1;32m      3\u001b[0m \u001b[0marr2\u001b[0m \u001b[0;34m=\u001b[0m \u001b[0mnp\u001b[0m\u001b[0;34m.\u001b[0m\u001b[0marange\u001b[0m\u001b[0;34m(\u001b[0m\u001b[0;36m15\u001b[0m\u001b[0;34m)\u001b[0m\u001b[0;34m;\u001b[0m\u001b[0;34m\u001b[0m\u001b[0m\n\u001b[0;32m----> 4\u001b[0;31m \u001b[0;32mprint\u001b[0m \u001b[0marr1\u001b[0m\u001b[0;34m*\u001b[0m\u001b[0marr2\u001b[0m\u001b[0;34m;\u001b[0m\u001b[0;34m\u001b[0m\u001b[0m\n\u001b[0m",
      "\u001b[0;31mValueError\u001b[0m: operands could not be broadcast together with shapes (12,) (15,) "
     ]
    }
   ],
   "source": [
    "#if the arrays are not of same size\n",
    "arr1 = np.arange(12);\n",
    "arr2 = np.arange(15);\n",
    "print arr1*arr2;"
   ]
  },
  {
   "cell_type": "code",
   "execution_count": 23,
   "metadata": {
    "collapsed": false
   },
   "outputs": [
    {
     "ename": "ValueError",
     "evalue": "operands could not be broadcast together with shapes (2,12) (11,) ",
     "output_type": "error",
     "traceback": [
      "\u001b[0;31m---------------------------------------------------------------------------\u001b[0m",
      "\u001b[0;31mValueError\u001b[0m                                Traceback (most recent call last)",
      "\u001b[0;32m<ipython-input-23-d78f520f0706>\u001b[0m in \u001b[0;36m<module>\u001b[0;34m()\u001b[0m\n\u001b[1;32m      2\u001b[0m \u001b[0marr1\u001b[0m \u001b[0;34m=\u001b[0m \u001b[0mnp\u001b[0m\u001b[0;34m.\u001b[0m\u001b[0marray\u001b[0m\u001b[0;34m(\u001b[0m\u001b[0;34m[\u001b[0m\u001b[0mnp\u001b[0m\u001b[0;34m.\u001b[0m\u001b[0marange\u001b[0m\u001b[0;34m(\u001b[0m\u001b[0;36m12\u001b[0m\u001b[0;34m)\u001b[0m\u001b[0;34m,\u001b[0m \u001b[0mnp\u001b[0m\u001b[0;34m.\u001b[0m\u001b[0marange\u001b[0m\u001b[0;34m(\u001b[0m\u001b[0;36m13\u001b[0m\u001b[0;34m,\u001b[0m\u001b[0;36m25\u001b[0m\u001b[0;34m)\u001b[0m\u001b[0;34m]\u001b[0m\u001b[0;34m)\u001b[0m\u001b[0;34m\u001b[0m\u001b[0m\n\u001b[1;32m      3\u001b[0m \u001b[0marr2\u001b[0m \u001b[0;34m=\u001b[0m \u001b[0mnp\u001b[0m\u001b[0;34m.\u001b[0m\u001b[0marray\u001b[0m\u001b[0;34m(\u001b[0m\u001b[0mnp\u001b[0m\u001b[0;34m.\u001b[0m\u001b[0marange\u001b[0m\u001b[0;34m(\u001b[0m\u001b[0;36m2\u001b[0m\u001b[0;34m,\u001b[0m \u001b[0;36m24\u001b[0m\u001b[0;34m,\u001b[0m \u001b[0;36m2\u001b[0m\u001b[0;34m)\u001b[0m\u001b[0;34m)\u001b[0m\u001b[0;34m\u001b[0m\u001b[0m\n\u001b[0;32m----> 4\u001b[0;31m \u001b[0;32mprint\u001b[0m \u001b[0marr1\u001b[0m \u001b[0;34m*\u001b[0m \u001b[0marr2\u001b[0m\u001b[0;34m;\u001b[0m\u001b[0;34m\u001b[0m\u001b[0m\n\u001b[0m",
      "\u001b[0;31mValueError\u001b[0m: operands could not be broadcast together with shapes (2,12) (11,) "
     ]
    }
   ],
   "source": [
    "#Array Multiplications\n",
    "# for dot product to happen both arrays have to be of same size\n",
    "arr1 = np.array([np.arange(12), np.arange(13,25)])\n",
    "arr2 = np.array(np.arange(2, 24, 2))\n",
    "print arr1 * arr2;"
   ]
  },
  {
   "cell_type": "code",
   "execution_count": 53,
   "metadata": {
    "collapsed": false
   },
   "outputs": [
    {
     "name": "stdout",
     "output_type": "stream",
     "text": [
      "[[ 1  2 11 16  5  6  7  8  9 10  8 12]\n",
      " [14 15 76 81 18 19 20 21 22 23 24 25]]\n",
      "[[  0   5  50  75  20  25  30  35  40  45  35  55]\n",
      " [ 65  70 375 400  85  90  95 100 105 110 115 120]]\n",
      "[[  0.    0.2   2.    3.    0.8   1.    1.2   1.4   1.6   1.8   1.4   2.2]\n",
      " [  2.6   2.8  15.   16.    3.4   3.6   3.8   4.    4.2   4.4   4.6   4.8]]\n",
      "[[   0    1  100  225   16   25   36   49   64   81   49  121]\n",
      " [ 169  196 5625 6400  289  324  361  400  441  484  529  576]]\n",
      "[[ 0.          1.          3.16227766  3.87298335  2.          2.23606798\n",
      "   2.44948974  2.64575131  2.82842712  3.          2.64575131  3.31662479]\n",
      " [ 3.60555128  3.74165739  8.66025404  8.94427191  4.12310563  4.24264069\n",
      "   4.35889894  4.47213595  4.58257569  4.69041576  4.79583152  4.89897949]]\n"
     ]
    }
   ],
   "source": [
    "#on each array scalar operations can be performed as in matlab\n",
    "print arr1 + 1;\n",
    "print arr1 * 5;\n",
    "print arr1 /5;\n",
    "print arr1 ** 2;\n",
    "print np.sqrt(arr1)"
   ]
  },
  {
   "cell_type": "code",
   "execution_count": 30,
   "metadata": {
    "collapsed": false
   },
   "outputs": [
    {
     "data": {
      "text/plain": [
       "5"
      ]
     },
     "execution_count": 30,
     "metadata": {},
     "output_type": "execute_result"
    }
   ],
   "source": [
    "# array indexing is done as in python lists. For example if you want to get 5th element of arr1 arr[4] \n",
    "#starts with zero. You need to give row number followed by column number\n",
    "arr1[0, 5]"
   ]
  },
  {
   "cell_type": "code",
   "execution_count": 33,
   "metadata": {
    "collapsed": false
   },
   "outputs": [
    {
     "data": {
      "text/plain": [
       "array([[ 2,  3],\n",
       "       [15, 16]])"
      ]
     },
     "execution_count": 33,
     "metadata": {},
     "output_type": "execute_result"
    }
   ],
   "source": [
    "#array slicing is also possible as in matlab\n",
    "arr1[0:2, 2:4]"
   ]
  },
  {
   "cell_type": "code",
   "execution_count": 34,
   "metadata": {
    "collapsed": false
   },
   "outputs": [
    {
     "name": "stdout",
     "output_type": "stream",
     "text": [
      "[[ 0  1 10 15  4  5  6  7  8  9 10 11]\n",
      " [13 14 75 80 17 18 19 20 21 22 23 24]]\n"
     ]
    }
   ],
   "source": [
    "arr1[0:2, 2:4] = arr1[0:2, 2:4] * 5;\n",
    "print arr1"
   ]
  },
  {
   "cell_type": "code",
   "execution_count": 38,
   "metadata": {
    "collapsed": false
   },
   "outputs": [
    {
     "name": "stdout",
     "output_type": "stream",
     "text": [
      "[[ 0  1 10 15  4  5  6  7  8  9  7 11]\n",
      " [13 14 75 80 17 18 19 20 21 22 23 24]]\n",
      "[[ 0  1 10 15  4  5  6  7  8  9  7 11]\n",
      " [13 14 75 80 17 18 19 20 21 22 23 24]]\n"
     ]
    }
   ],
   "source": [
    "# MOST IMPORTANT assignment of array just assigns pointer\n",
    "arr2 = arr1;\n",
    "arr2[0,10] = 7;\n",
    "print arr1;\n",
    "print arr2;"
   ]
  },
  {
   "cell_type": "code",
   "execution_count": 39,
   "metadata": {
    "collapsed": false
   },
   "outputs": [
    {
     "name": "stdout",
     "output_type": "stream",
     "text": [
      "[[ 0  1 10 15  4  5  6  7  8  9  7 11]\n",
      " [13 14 75 80 17 18 19 20 21 22 23 24]]\n",
      "[[ 0  1 10 15  4  5  6  7  8  9  7 77]\n",
      " [13 14 75 80 17 18 19 20 21 22 23 24]]\n"
     ]
    }
   ],
   "source": [
    "#in order to avoid this problem, you can explicitly create copies by using the function copy\n",
    "arr3 = arr1.copy();\n",
    "arr3[0,11] = 77;\n",
    "print arr1;\n",
    "print arr3;"
   ]
  },
  {
   "cell_type": "code",
   "execution_count": 43,
   "metadata": {
    "collapsed": false
   },
   "outputs": [
    {
     "name": "stdout",
     "output_type": "stream",
     "text": [
      "[13 14 75 80 17 18 19 20 21 22 23 24]\n",
      "[ 5 18]\n"
     ]
    }
   ],
   "source": [
    "#you can get entire row using indexing\n",
    "print arr3[1,]\n",
    "print arr3[:,5]"
   ]
  },
  {
   "cell_type": "code",
   "execution_count": 45,
   "metadata": {
    "collapsed": false
   },
   "outputs": [
    {
     "data": {
      "text/plain": [
       "array([[ 5,  6,  9],\n",
       "       [18, 19, 22]])"
      ]
     },
     "execution_count": 45,
     "metadata": {},
     "output_type": "execute_result"
    }
   ],
   "source": [
    "#Fancy indexing, instead of giving a numbers as arguments, you can give list as an argument\n",
    "arr3[:, [5,6,9]]"
   ]
  },
  {
   "cell_type": "code",
   "execution_count": 47,
   "metadata": {
    "collapsed": false
   },
   "outputs": [
    {
     "name": "stdout",
     "output_type": "stream",
     "text": [
      "[[ 0  1  2  3  4  5]\n",
      " [ 6  7  8  9 10 11]\n",
      " [12 13 14 15 16 17]\n",
      " [18 19 20 21 22 23]\n",
      " [24 25 26 27 28 29]\n",
      " [30 31 32 33 34 35]]\n",
      "[[[ 0  1  2]\n",
      "  [ 3  4  5]]\n",
      "\n",
      " [[ 6  7  8]\n",
      "  [ 9 10 11]]\n",
      "\n",
      " [[12 13 14]\n",
      "  [15 16 17]]\n",
      "\n",
      " [[18 19 20]\n",
      "  [21 22 23]]\n",
      "\n",
      " [[24 25 26]\n",
      "  [27 28 29]]\n",
      "\n",
      " [[30 31 32]\n",
      "  [33 34 35]]]\n"
     ]
    }
   ],
   "source": [
    "#Instead of creating arrays by passing lists as arguments, you can create a unidimensional array and reshape it.\n",
    "vect0 = np.arange(36)\n",
    "print vect0.reshape(6,6)\n",
    "#Three dimensional array\n",
    "print vect0.reshape(6, 2, 3) "
   ]
  },
  {
   "cell_type": "code",
   "execution_count": 49,
   "metadata": {
    "collapsed": false
   },
   "outputs": [
    {
     "name": "stdout",
     "output_type": "stream",
     "text": [
      "[[ 0  1  2  3  4  5]\n",
      " [ 6  7  8  9 10 11]\n",
      " [12 13 14 15 16 17]\n",
      " [18 19 20 21 22 23]\n",
      " [24 25 26 27 28 29]\n",
      " [30 31 32 33 34 35]]\n",
      "[[ 0  6 12 18 24 30]\n",
      " [ 1  7 13 19 25 31]\n",
      " [ 2  8 14 20 26 32]\n",
      " [ 3  9 15 21 27 33]\n",
      " [ 4 10 16 22 28 34]\n",
      " [ 5 11 17 23 29 35]]\n"
     ]
    }
   ],
   "source": [
    "#transposing a matrix is just calling a function T\n",
    "trans_ex = vect0.reshape(6,6)\n",
    "print trans_ex;\n",
    "print trans_ex.T"
   ]
  },
  {
   "cell_type": "code",
   "execution_count": 50,
   "metadata": {
    "collapsed": false
   },
   "outputs": [
    {
     "data": {
      "text/plain": [
       "array([[[ 0,  1,  2],\n",
       "        [ 6,  7,  8],\n",
       "        [12, 13, 14],\n",
       "        [18, 19, 20],\n",
       "        [24, 25, 26],\n",
       "        [30, 31, 32]],\n",
       "\n",
       "       [[ 3,  4,  5],\n",
       "        [ 9, 10, 11],\n",
       "        [15, 16, 17],\n",
       "        [21, 22, 23],\n",
       "        [27, 28, 29],\n",
       "        [33, 34, 35]]])"
      ]
     },
     "execution_count": 50,
     "metadata": {},
     "output_type": "execute_result"
    }
   ],
   "source": [
    "#trans example\n",
    "trans_ex = vect0.reshape(6, 2, 3)\n",
    "trans_ex.transpose(1, 0, 2)"
   ]
  },
  {
   "cell_type": "code",
   "execution_count": 52,
   "metadata": {
    "collapsed": false
   },
   "outputs": [
    {
     "name": "stdout",
     "output_type": "stream",
     "text": [
      "[[0 1 2]\n",
      " [3 4 5]\n",
      " [6 7 8]]\n",
      "[[0 3 6]\n",
      " [1 4 7]\n",
      " [2 5 8]]\n"
     ]
    }
   ],
   "source": [
    "#swapaxes is a really cool example. Here axes refers to dimension\n",
    "arr0 = np.arange(9).reshape(3,3)\n",
    "print arr0;\n",
    "print arr0.swapaxes(0, 1)"
   ]
  },
  {
   "cell_type": "code",
   "execution_count": 54,
   "metadata": {
    "collapsed": false
   },
   "outputs": [
    {
     "data": {
      "text/plain": [
       "7.3890560989306504"
      ]
     },
     "execution_count": 54,
     "metadata": {},
     "output_type": "execute_result"
    }
   ],
   "source": [
    "#exponential functions are created using exp as in matlab\n",
    "np.exp(2)"
   ]
  },
  {
   "cell_type": "code",
   "execution_count": 56,
   "metadata": {
    "collapsed": false
   },
   "outputs": [
    {
     "name": "stdout",
     "output_type": "stream",
     "text": [
      "[[-0.18551947 -1.14861911]\n",
      " [-1.1575923  -1.62274201]]\n"
     ]
    }
   ],
   "source": [
    "#numpy can create random arrays using random\n",
    "print np.random.randn(2,2)"
   ]
  },
  {
   "cell_type": "code",
   "execution_count": 65,
   "metadata": {
    "collapsed": false
   },
   "outputs": [
    {
     "name": "stdout",
     "output_type": "stream",
     "text": [
      "[-0.00902585  0.30431186 -0.82509482  0.00327116  0.34100665]\n",
      "[-0.17890411 -0.72692813  0.898959    0.16742459 -0.43823721]\n",
      "[-0.00902585  0.30431186  0.898959    0.16742459  0.34100665]\n"
     ]
    }
   ],
   "source": [
    "#maximum and minimum functions are maximum and minimum respectively\n",
    "arr0 = np.random.randn(5);\n",
    "arr1 = np.random.randn(5);\n",
    "print arr0;\n",
    "print arr1;\n",
    "print np.maximum(arr0, arr1)"
   ]
  },
  {
   "cell_type": "raw",
   "metadata": {},
   "source": [
    "#check out universal functions"
   ]
  },
  {
   "cell_type": "code",
   "execution_count": 66,
   "metadata": {
    "collapsed": false
   },
   "outputs": [
    {
     "name": "stdout",
     "output_type": "stream",
     "text": [
      "[  0.00000000e+00   7.07106781e-01   1.00000000e+00   7.07106781e-01\n",
      "   1.22464680e-16  -7.07106781e-01  -1.00000000e+00  -7.07106781e-01\n",
      "  -2.44929360e-16   7.07106781e-01]\n"
     ]
    }
   ],
   "source": [
    "print np.sin(np.arange(10) * np.pi /4)"
   ]
  },
  {
   "cell_type": "code",
   "execution_count": null,
   "metadata": {
    "collapsed": true
   },
   "outputs": [],
   "source": []
  }
 ],
 "metadata": {
  "kernelspec": {
   "display_name": "Python 2",
   "language": "python",
   "name": "python2"
  },
  "language_info": {
   "codemirror_mode": {
    "name": "ipython",
    "version": 2
   },
   "file_extension": ".py",
   "mimetype": "text/x-python",
   "name": "python",
   "nbconvert_exporter": "python",
   "pygments_lexer": "ipython2",
   "version": "2.7.6"
  }
 },
 "nbformat": 4,
 "nbformat_minor": 1
}
